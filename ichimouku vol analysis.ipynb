{
 "cells": [
  {
   "cell_type": "code",
   "execution_count": 2,
   "metadata": {},
   "outputs": [],
   "source": [
    "from alpha_vantage.timeseries import TimeSeries\n",
    "import pandas as pd\n",
    "import yfinance as yf, pandas as pd, shutil, os\n",
    "import math\n",
    "\n",
    "df = pd.read_csv('NYSE.csv')"
   ]
  },
  {
   "cell_type": "code",
   "execution_count": 66,
   "metadata": {},
   "outputs": [
    {
     "name": "stdout",
     "output_type": "stream",
     "text": [
      "0       AACQ\n",
      "1        AAL\n",
      "2       AAOI\n",
      "3       AAON\n",
      "4       AAPL\n",
      "        ... \n",
      "2198    ZNGA\n",
      "2199    ZNTL\n",
      "2200      ZS\n",
      "2201    ZUMZ\n",
      "2202    ZYXI\n",
      "Name: 0, Length: 2203, dtype: object\n",
      "EDAP\n",
      "102333.33333333333\n",
      "1445995\n",
      "GNTY\n",
      "15333.333333333334\n",
      "123106\n",
      "HGEN\n",
      "1134300.0\n",
      "66896576\n",
      "VTRU\n",
      "22566.666666666668\n",
      "1038174208\n",
      "WEYS\n",
      "13333.333333333334\n",
      "3228033603\n",
      "WILC\n",
      "6466.666666666667\n",
      "1041576576\n",
      "['EDAP', 'GNTY', 'HGEN', 'VTRU', 'WEYS', 'WILC']\n"
     ]
    }
   ],
   "source": [
    "#unusual volume\n",
    "increased_volume = []\n",
    "\n",
    "for stock in df['Symbols']:\n",
    "    stock = stock.upper()\n",
    "    if '^' in stock:\n",
    "        pass\n",
    "    else:\n",
    "        try:\n",
    "            stock_info = yf.Ticker(stock)\n",
    "            hist = stock_info.history(period=\"5d\")\n",
    "            previous_averaged_volume = hist['Volume'].iloc[1:4:1].mean()\n",
    "            todays_volume = hist['Volume'][-1]\n",
    "            previous_close = hist['Close'][-2]\n",
    "            current_close = hist['Close'][-1]\n",
    "            if todays_volume > previous_averaged_volume * 4 and previous_close < current_close and todays_volume > 100000:\n",
    "                print(stock)\n",
    "                print(previous_averaged_volume)\n",
    "                print(todays_volume)\n",
    "                increased_volume.append(stock)\n",
    "        except:\n",
    "            pass\n",
    "\n",
    "print(increased_volume)"
   ]
  },
  {
   "cell_type": "code",
   "execution_count": 3,
   "metadata": {},
   "outputs": [],
   "source": [
    "buy_list=[]\n",
    "price_list=[]\n",
    "stop_loss=[]\n",
    "s=['EDAP', 'GNTY', 'HGEN', 'VTRU', 'WEYS', 'WILC']"
   ]
  },
  {
   "cell_type": "code",
   "execution_count": 4,
   "metadata": {},
   "outputs": [],
   "source": [
    "def getinfo(x):\n",
    "    symbol=x\n",
    "    state=yf.Ticker(symbol).history(period=\"max\")\n",
    "    state = state[len(state)-80:len(state)]\n",
    "    Data=state.loc[:,['Open','High','Low','Close']]\n",
    "    Data=Data.iloc[::-1]\n",
    "    return Data"
   ]
  },
  {
   "cell_type": "code",
   "execution_count": 5,
   "metadata": {},
   "outputs": [
    {
     "name": "stdout",
     "output_type": "stream",
     "text": [
      "ignore\n",
      "dont buy\n",
      "above green cloud\n",
      "momentum\n",
      "lagging span above past price\n",
      "GNTY,buy\n",
      "ignore\n",
      "dont buy\n",
      "ignore\n",
      "dont buy\n",
      "above green cloud\n",
      "momentum\n",
      "lagging span above past price\n",
      "WEYS,buy\n",
      "above green cloud\n",
      "momentum\n",
      "lagging span below price\n",
      "dont buy\n"
     ]
    }
   ],
   "source": [
    "for a in range(len(s)):\n",
    "    Data=getinfo(s[a])\n",
    "    \n",
    "    #settings\n",
    "    kijun_lookback  = 26\n",
    "    tenkan_lookback =  9\n",
    "    chikou_lookback = 26\n",
    "    senkou_span_projection = 26\n",
    "    senkou_span_b_lookback = 52\n",
    "\n",
    "    closing_price=Data.iloc[0,3]\n",
    "    opening_price=Data.iloc[0,0]\n",
    "    prev_closing_price=Data.iloc[1,3]\n",
    "    prev_opening_price=Data.iloc[1,0]\n",
    "    price_26day=Data.iloc[chikou_lookback-1,1]\n",
    "\n",
    "    # Kijun-sen (Base Line): (26-period high + 26-period low)/2))\n",
    "    Bhigh=Data[:kijun_lookback].loc[:,['High']].max()\n",
    "    high=Bhigh[0]\n",
    "    Blow=Data[:kijun_lookback].loc[:,['Low']].min()\n",
    "    low=Blow[0]\n",
    "\n",
    "    kijun_sen=(high+low)/2\n",
    "\n",
    "    # Kijun-sen (Base Line)prev day: (26-period high + 26-period low)/2))\n",
    "    high27=Data[1:kijun_lookback+1].loc[:,['High']].max()\n",
    "    high27=high27[0]\n",
    "    Blow27=Data[1:kijun_lookback+1].loc[:,['Low']].min()\n",
    "    low27=Blow27[0]\n",
    "\n",
    "    kijun_sen_prev=(high27+low27)/2\n",
    "    # tenkan-sen (Conversion Line):  [(9-period high + 9-period low)/2])\n",
    "    high=Data[:tenkan_lookback].loc[:,['High']].max()\n",
    "    high=high[0]\n",
    "    low=Data[:tenkan_lookback].loc[:,['Low']].min()\n",
    "    low=low[0]\n",
    "\n",
    "    tenkan_sen=(high+low)/2\n",
    "\n",
    "    # tenkan-sen (Conversion Line) prev day:  [(9-period high + 9-period low)/2])\n",
    "    high27=Data[1:tenkan_lookback+1].loc[:,['High']].max()\n",
    "    high27=high27[0]\n",
    "    low27=Data[1:tenkan_lookback+1].loc[:,['Low']].min()\n",
    "    low27=low27[0]\n",
    "\n",
    "    tenkan_sen_prev=(high27+low27)/2\n",
    "\n",
    "    #Chikou span: CLosing price\n",
    "    chikou=closing_price\n",
    "\n",
    "    #Senkou span A  [(Conversion Line + Base Line)/2] Current\n",
    "    Senkou_A=(kijun_sen+tenkan_sen)/2\n",
    "\n",
    "    #Senkou span A  [(Conversion Line + Base Line)/2] looking at 26 days before\n",
    "    Bhigh26=Data[senkou_span_projection:kijun_lookback+senkou_span_projection].loc[:,['High']].max()\n",
    "    high26=Bhigh26[0]\n",
    "    Blow26=Data[senkou_span_projection:kijun_lookback+senkou_span_projection].loc[:,['Low']].min()\n",
    "    low26=Blow26[0]\n",
    "    kijun_sen26=(high26+low26)/2\n",
    "\n",
    "    chigh26=Data[senkou_span_projection:tenkan_lookback+senkou_span_projection].loc[:,['High']].max()\n",
    "    high=chigh26[0]\n",
    "    clow26=Data[senkou_span_projection:tenkan_lookback+senkou_span_projection].loc[:,['Low']].min()\n",
    "    low=clow26[0]\n",
    "\n",
    "    tenkan_sen26=(high+low)/2\n",
    "\n",
    "    Senkou_AP=(kijun_sen26+tenkan_sen26)/2\n",
    "\n",
    "    #Senkou span B  [(52-period high + 52-period low)/2] Current\n",
    "    high=Data[:senkou_span_b_lookback].loc[:,['High']].max()\n",
    "    high=high[0]\n",
    "    low=Data[:senkou_span_b_lookback].loc[:,['Low']].min()\n",
    "    low=low[0]\n",
    "\n",
    "    Senkou_B=(high+low)/2\n",
    "\n",
    "    #Senkou span B  [(52-period high + 52-period low)/2] Looking at 26 days before\n",
    "    high26=Data[senkou_span_projection:senkou_span_b_lookback+senkou_span_projection].loc[:,['High']].max()\n",
    "    high26=high26[0]\n",
    "    low26=Data[senkou_span_projection:senkou_span_b_lookback+senkou_span_projection].loc[:,['Low']].min()\n",
    "    low26=low26[0]\n",
    "\n",
    "    Senkou_BP=(high26+low26)/2\n",
    "    def momentum_test():\n",
    "        # first test conversion>base\n",
    "        if tenkan_sen>kijun_sen and tenkan_sen_prev<kijun_sen_prev:\n",
    "            print('high momentum breakout!')\n",
    "            return 1\n",
    "        elif tenkan_sen>kijun_sen and tenkan_sen_prev>kijun_sen_prev:\n",
    "            print('momentum')\n",
    "            return 1\n",
    "        else:\n",
    "            print('no breakout')\n",
    "            return 0\n",
    "    def lagging_test():\n",
    "        if chikou>price_26day:\n",
    "            print('lagging span above past price')\n",
    "            return 1\n",
    "        else:\n",
    "            print('lagging span below price')\n",
    "            return 0\n",
    "\n",
    "    n=0\n",
    "    if opening_price> Senkou_AP and closing_price>Senkou_AP and opening_price> Senkou_BP and closing_price>Senkou_BP and Senkou_A>Senkou_B :\n",
    "        print('above green cloud')\n",
    "        n+=momentum_test()\n",
    "        n+=lagging_test()\n",
    "    else:\n",
    "        print('ignore')\n",
    "    if n==2:\n",
    "        print(s[a]+',buy')\n",
    "        buy_list.append(s[a])\n",
    "        price_list.append(closing_price)\n",
    "        stop_loss.append(tenkan_sen26)\n",
    "    \n",
    "    else:\n",
    "        print('dont buy')"
   ]
  },
  {
   "cell_type": "code",
   "execution_count": 11,
   "metadata": {},
   "outputs": [
    {
     "name": "stdout",
     "output_type": "stream",
     "text": [
      "total cash:10000\n"
     ]
    }
   ],
   "source": [
    "portfolio=float(input('total cash:'))\n",
    "maxnostocks=10\n",
    "maxrisk=0.1\n",
    "todays_cap=portfolio/maxnostocks*len(buy_list)\n",
    "max_per_stock=maxrisk*portfolio\n",
    "my_columns = ['Ticker', 'Price', 'Number Of Shares to Buy','Stop Loss']\n",
    "final_dataframe = pd.DataFrame(columns = my_columns)\n",
    "final_dataframe['Ticker']=buy_list\n",
    "final_dataframe['Price']=price_list\n",
    "final_dataframe['Stop Loss']=stop_loss"
   ]
  },
  {
   "cell_type": "code",
   "execution_count": 14,
   "metadata": {},
   "outputs": [
    {
     "data": {
      "text/plain": [
       "2000.0"
      ]
     },
     "execution_count": 14,
     "metadata": {},
     "output_type": "execute_result"
    }
   ],
   "source": [
    "todays_cap"
   ]
  },
  {
   "cell_type": "code",
   "execution_count": 15,
   "metadata": {},
   "outputs": [],
   "source": [
    "#weightage\n",
    "def weightage(cap,max_per_stock):\n",
    "    vol_change=[]\n",
    "    weight=[]\n",
    "    numberofshares=[]\n",
    "    for i in range(len(buy_list)):\n",
    "        symbol=buy_list[i]\n",
    "        vol=yf.Ticker(symbol).history(period=\"max\")\n",
    "        vol = vol[len(vol)-26:len(vol)].loc[:,['Volume']]\n",
    "        vol=vol.iloc[::-1]\n",
    "        vol=list(vol['Volume'])\n",
    "\n",
    "        pastav_vol=sum(vol[1:len(vol)])/(len(vol)-1)\n",
    "        current_vol=vol[0]\n",
    "        per_change_vol=(current_vol/pastav_vol)*100\n",
    "        vol_change.append(per_change_vol)\n",
    "    for u in range(len(buy_list)):\n",
    "        w=vol_change[u]/sum(vol_change)*cap\n",
    "        weight.append(w)\n",
    "    for n in range(len(price_list)):\n",
    "        if weight[n]>max_per_stock:\n",
    "            numbershares=math.floor(max_per_stock/price_list[n])\n",
    "        else:    \n",
    "            numbershares=math.floor(weight[n]/price_list[n])\n",
    "        numberofshares.append(numbershares)\n",
    "    return numberofshares"
   ]
  },
  {
   "cell_type": "code",
   "execution_count": 16,
   "metadata": {},
   "outputs": [],
   "source": [
    "final_dataframe['Number Of Shares to Buy']=weightage(todays_cap,max_per_stock)"
   ]
  },
  {
   "cell_type": "code",
   "execution_count": 17,
   "metadata": {},
   "outputs": [
    {
     "data": {
      "text/html": [
       "<div>\n",
       "<style scoped>\n",
       "    .dataframe tbody tr th:only-of-type {\n",
       "        vertical-align: middle;\n",
       "    }\n",
       "\n",
       "    .dataframe tbody tr th {\n",
       "        vertical-align: top;\n",
       "    }\n",
       "\n",
       "    .dataframe thead th {\n",
       "        text-align: right;\n",
       "    }\n",
       "</style>\n",
       "<table border=\"1\" class=\"dataframe\">\n",
       "  <thead>\n",
       "    <tr style=\"text-align: right;\">\n",
       "      <th></th>\n",
       "      <th>Ticker</th>\n",
       "      <th>Price</th>\n",
       "      <th>Number Of Shares to Buy</th>\n",
       "      <th>Stop Loss</th>\n",
       "    </tr>\n",
       "  </thead>\n",
       "  <tbody>\n",
       "    <tr>\n",
       "      <th>0</th>\n",
       "      <td>GNTY</td>\n",
       "      <td>37.509998</td>\n",
       "      <td>26</td>\n",
       "      <td>30.930183</td>\n",
       "    </tr>\n",
       "    <tr>\n",
       "      <th>1</th>\n",
       "      <td>WEYS</td>\n",
       "      <td>22.600000</td>\n",
       "      <td>6</td>\n",
       "      <td>18.756139</td>\n",
       "    </tr>\n",
       "  </tbody>\n",
       "</table>\n",
       "</div>"
      ],
      "text/plain": [
       "  Ticker      Price  Number Of Shares to Buy  Stop Loss\n",
       "0   GNTY  37.509998                       26  30.930183\n",
       "1   WEYS  22.600000                        6  18.756139"
      ]
     },
     "execution_count": 17,
     "metadata": {},
     "output_type": "execute_result"
    }
   ],
   "source": [
    "final_dataframe\n"
   ]
  }
 ],
 "metadata": {
  "kernelspec": {
   "display_name": "Python 3",
   "language": "python",
   "name": "python3"
  },
  "language_info": {
   "codemirror_mode": {
    "name": "ipython",
    "version": 3
   },
   "file_extension": ".py",
   "mimetype": "text/x-python",
   "name": "python",
   "nbconvert_exporter": "python",
   "pygments_lexer": "ipython3",
   "version": "3.7.6"
  }
 },
 "nbformat": 4,
 "nbformat_minor": 4
}
